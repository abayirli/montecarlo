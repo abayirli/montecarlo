{
 "cells": [
  {
   "cell_type": "markdown",
   "metadata": {},
   "source": [
    "Fizik ve matematikte bir problemle karşılaştığımızda problemi kağıt-kalem yardımıyla 'analitik' olarak çözemediğimizde yada bu şekilde çözmeye girişmeden önce çözüme dair bir fikir edinmek adına ufak tefek deneyler yapmak için 'simulasyon' dediğimiz, bilgisayar yardımıyla bir takım sayısal yöntemler kullanırız. Bu yöntemlere dair fikir vermek adına ünlü bir olasılık problemini 'Monte Carlo' yöntemi olarak adlandırılan ve rastgele üretilmiş sayıları kullanan bir simulasyon ile çözmeye çalışacağız. Problemimiz ünlü 'Monty Hall' problemi!\n"
   ]
  },
  {
   "cell_type": "markdown",
   "metadata": {},
   "source": [
    "<img style=\"float: center;\" src=\"https://4.bp.blogspot.com/-xcLySiYBymw/V7g05DGUSWI/AAAAAAAAATI/0IjFv_XBjfIUM1m9GaVAQgz_6AJq_CfjQCLcB/s640/monty%2Bhall%2Bparadoxu.jpg\">"
   ]
  },
  {
   "cell_type": "markdown",
   "metadata": {},
   "source": [
    "Bir yarışmadasınız ve önünüzde bir tanesinin arkasında ödül, ikisinin ardında 'keçi' olan üç kapı bulunuyor. Kapılardan arkasında ödül olanı seçtiğinizde ödülü alıyor, diğer kapıları seçtiğinizde hiçbir şey kazanamıyorsunuz. Sunucu bir kapıyı seçmenizi istiyor ve siz de seçiyorsunuz. Ardından sunucu kapılardan birini açıyor ve arkasından keçi çıkıyor. Size dönüp açtığı kapının arkasında keçi olduğunu gördüğünüz halde seçtiğiniz kapıyı değiştirip değiştirmeyeceğinizi soruyor. **Sizce kazanmak için kapıyı değiştirmeli misiniz?**"
   ]
  },
  {
   "cell_type": "markdown",
   "metadata": {},
   "source": [
    "Problem 70'li yıllarda ortaya atılıyor ve değme matematikçilerin çözüm konusunda birbirine girmesine neden oluyor (hikayesi için <a href=\"https://priceonomics.com/the-time-everyone-corrected-the-worlds-smartest/\">tıklayınız</a>). Çözümünün, birçok basit olasılık probleminin çözümünde olduğu gibi, 'sağduyuya karşı' görünen yapısı, problemi epey ilginç ve popüler kılmış durumda. Basit olasılık argümanları ile seçtiğimiz kapıyı değiştirmenin mi yoksa değiştirmemenin mi avantajlı çıkacağı gösterilebilir fakat biz bunu birbirinin aynısı birçok deneme ile benzetim (simulasyon) yaparak bulmaya çalışacağız."
   ]
  },
  {
   "cell_type": "markdown",
   "metadata": {},
   "source": [
    "Simulasyon için ```Python``` programlama dili ve ``` Numpy``` kütüphanesini kullanacağız. Öncelikle ilgili kütüphaneleri çağıralım."
   ]
  },
  {
   "cell_type": "code",
   "execution_count": 1,
   "metadata": {
    "hidePrompt": false
   },
   "outputs": [],
   "source": [
    "import numpy as np\n",
    "import matplotlib.pyplot as plt\n",
    "%matplotlib inline"
   ]
  },
  {
   "cell_type": "markdown",
   "metadata": {},
   "source": [
    "Yapacağımız şey belirli sayıda örnek oyunlar oynayıp, her seferinde rastgele seçimler yaparak seçimimizi değiştirdiğimizde mi yoksa seçimimiz aynı kaldığında mı daha sık kazanıyoruz, bunu gözlemek!\n",
    "\n",
    "Öncelikle ödülün arkasında olduğu kapıyı simule edelim. ```nsim``` tane örnek kapı üreteceğiz. Kapılar $0$,$1$ ve $2$ değerleri alabiliyor. Bunun için ```numpy```ın ```random.randint``` fonksiyonunu kullanacağız. Bu fonksiyon verdiğiniz bir aralıkta (bizim için $0$ ve $3$) `size` ile belirleyeceğiniz sayıda düzgün dağılmış (eşit olasılıklı) rastgele tam sayılar üretiyor."
   ]
  },
  {
   "cell_type": "code",
   "execution_count": 2,
   "metadata": {},
   "outputs": [],
   "source": [
    "\"\"\"\n",
    "Fonksiyon: simulasyon_odul\n",
    "\n",
    "Ardında ödül olan kapıyı rastgele belirleyen fonksiyon.\n",
    "\n",
    "Örnek\n",
    "-------\n",
    ">>> print simulasyon_odul(3)\n",
    "array([0, 0, 2])\n",
    "\"\"\"\n",
    "\n",
    "def simulasyon_odul(nsim):\n",
    "    odul = np.random.randint(0,3, size = nsim)\n",
    "    return odul"
   ]
  },
  {
   "cell_type": "markdown",
   "metadata": {},
   "source": [
    "Şimdi de tahminlerimizi üreteceğimiz fonksiyonu tanımlayalım. Yine aynı şekilde ```nsim``` tane $0$,$1$ ve $2$ olan rastgele kapı numaraları üretiyoruz. Bizim durumumuzda her seferinde başlangıçta 'rastgele'bir kapı seçiyor; fakat tamamen farklı bir yönemle, örneğin hep aynı kapıyı da seçtirebiliriz."
   ]
  },
  {
   "cell_type": "code",
   "execution_count": 3,
   "metadata": {},
   "outputs": [],
   "source": [
    "\"\"\"\n",
    "Foksiyon: simulasyon_tahmin\n",
    "\n",
    "Yarışmacının seçeceği kapıyı rastgele seçen fonksiyon. \n",
    "\n",
    "Örnek\n",
    "-------\n",
    ">>> print simulasyon_tahmin(5)\n",
    "array([0, 0, 0, 0, 0])\n",
    "\"\"\"\n",
    "\n",
    "def simulasyon_tahmin(nsim):\n",
    "    tahmin = np.random.randint(0,3, size = nsim)\n",
    "    return tahmin"
   ]
  },
  {
   "cell_type": "markdown",
   "metadata": {},
   "source": [
    "Sırada sunucunun açacağı ve arkasında 'keçi' olan kapıyı belirlemek var. Bunun için sunucunun her zaman arkasında 'keçi' olan kapıyı açacağını bildiğimizden, bizim seçimimize göre eğer seçtiğimizin arkasında keçi varsa diğer keçili kapıyı, ödül varsa diğer iki keçili kapıdan birini belirliyoruz."
   ]
  },
  {
   "cell_type": "code",
   "execution_count": 4,
   "metadata": {},
   "outputs": [],
   "source": [
    "\"\"\"\n",
    "Fonksiyon: keci_kapi\n",
    "\n",
    "Arkasında ödül olmayan (keçi olan) ve kişinin seçmediği kapılardan birini seçen fonksiyon\n",
    "\n",
    "Örnek\n",
    "--------\n",
    ">>> print keci_kapi(np.array([0, 1, 2]), np.array([1, 1, 1]))\n",
    ">>> array([2, 2, 0])\n",
    "\"\"\"\n",
    "def keci_kapi(odul, tahmin):\n",
    "    acik = []\n",
    "    for i in range(len(odul)):\n",
    "        kapilar = [0,1,2]\n",
    "        if(odul[i] == tahmin[i]):\n",
    "            kapilar.remove(odul[i])\n",
    "            acik.append(np.random.choice(kapilar))\n",
    "        else:\n",
    "            kapilar.remove(odul[i])\n",
    "            kapilar.remove(tahmin[i])\n",
    "            acik.append(kapilar[0])\n",
    "    return np.array(acik)"
   ]
  },
  {
   "cell_type": "markdown",
   "metadata": {},
   "source": [
    "Son olarak da tahmin değiştirme fonksiyonumuzu (```tahmin_degistir```) yazıyoruz. Bu fonksiyon tahminimizi ve sunucunun açtığı, arkasında keçi olan kapıyı girdi olarak alıyor ve tahmini değiştirdiği kapıyı döndürüyor."
   ]
  },
  {
   "cell_type": "code",
   "execution_count": 5,
   "metadata": {},
   "outputs": [],
   "source": [
    "\"\"\"\n",
    "Fonksiyon: tahmin_degistir\n",
    "\n",
    "Arkasında keçi olan kapı açıldığında her zaman seçtiği kapıyı değiştiren strateji\n",
    "\n",
    "Örnek\n",
    "--------\n",
    ">>> print tahmin_degistir(np.array([0, 1, 2]), np.array([1, 2, 1]))\n",
    ">>> array([2, 0, 0])\n",
    "\"\"\"\n",
    "def tahmin_degistir(tahmin, kecikapilar):\n",
    "    degistir = []\n",
    "    for i in range(len(odul)):\n",
    "        kapilar = [0,1,2]\n",
    "        if(kecikapilar[i] == tahmin[i]):\n",
    "            kapilar.remove(kecikapilar[i])\n",
    "            degistir.append(np.random.choice(kapilar))\n",
    "        else:\n",
    "            kapilar.remove(tahmin[i])\n",
    "            kapilar.remove(kecikapilar[i])\n",
    "            degistir.append(kapilar[0])\n",
    "    return np.array(degistir)"
   ]
  },
  {
   "cell_type": "markdown",
   "metadata": {},
   "source": [
    "Son olarak oynadığımız oyunlardan kapıyı değiştirdiklerimizin ve değiştirmediklerimizin kaçında kazandığımızı hesaplamak için bir fonksiyon belirliyoruz."
   ]
  },
  {
   "cell_type": "code",
   "execution_count": 6,
   "metadata": {},
   "outputs": [],
   "source": [
    "\"\"\"\n",
    "Fonksiyon: kazanma_yuzdesi\n",
    "Kazanma yüzdesini hesaplayan fonksiyon\n",
    "\n",
    "Örnek\n",
    "---------\n",
    ">>> print kazanma_yuzdesi(np.array([0, 1, 2]), np.array([0, 0, 0]))\n",
    "33.333\n",
    "\"\"\"\n",
    "def kazanma_yuzdesi(tahmin, odul):\n",
    "    return np.sum(tahmin == odul)/float(len(tahmin))"
   ]
  },
  {
   "cell_type": "markdown",
   "metadata": {},
   "source": [
    "Fonksiyonlarımızı belirledikten sonra şimdi simulasyona başlayalım. ```nsim```$=1000$ tane oyun oynayacağız. Tek tek ardından ödül olan ve tahmin ettiğimiz kapı değerlerini rastgele oluşturuyoruz. Sonrasında sunucunun seçeceği ve arkasında keçi çıkan kapıyı belirliyoruz. Sonrasında kapımızı değiştirip değiştirmeyeceğimize karar veriyoruz. Ardından elde ettiğimiz sonucu yazdırıyoruz."
   ]
  },
  {
   "cell_type": "code",
   "execution_count": 7,
   "metadata": {},
   "outputs": [
    {
     "name": "stdout",
     "output_type": "stream",
     "text": [
      "Eğer ilk seçtiği kapıyı değiştirmezse  0.305\n",
      "Eğer ilk seçtiği kapıyı değiştirirse:  0.695\n"
     ]
    }
   ],
   "source": [
    "nsim = 1000\n",
    "odul = simulasyon_odul(nsim)\n",
    "tahmin = simulasyon_tahmin(nsim)\n",
    "kecikapilar = keci_kapi(odul,tahmin)\n",
    "degistir = tahmin_degistir(tahmin,kecikapilar)\n",
    "\n",
    "print(\"Eğer ilk seçtiği kapıyı değiştirmezse \", kazanma_yuzdesi(tahmin, odul))\n",
    "print(\"Eğer ilk seçtiği kapıyı değiştirirse: \", kazanma_yuzdesi(degistir, odul))"
   ]
  },
  {
   "cell_type": "markdown",
   "metadata": {
    "hidePrompt": true
   },
   "source": [
    "Görüldüğü üzere kapıyı değiştirdiğinde %67'e yakın yani $\\frac{2}{3}$ oranında kazanırken, değiştirmediğinde $\\frac{1}{3}$ yakın bir oranda kazanıyor. Yani seçtiğiniz kapıyı değiştirmek en makul seçenek gibi görünüyor!\n",
    "\n",
    "Bu oranın oynadığımız oyun sayısına bağlı olup olmadığını görmek için $1$'den başlayıp $10000$'e kadar $20$'şer artan sayılarda oyun oynayıp değiştirip değiştirmediği durumlarda kazanma yüzdesini çizdirelim, bakalım nasıl bir şey çıkacak ortaya."
   ]
  },
  {
   "cell_type": "code",
   "execution_count": 8,
   "metadata": {},
   "outputs": [
    {
     "data": {
      "image/png": "[encoded data removed]",
      "text/plain": [
       "<matplotlib.figure.Figure at 0x7f129ffb7278>"
      ]
     },
     "metadata": {},
     "output_type": "display_data"
    }
   ],
   "source": [
    "degistirirse = []\n",
    "degistirmezse = []\n",
    "for nsim in range(1,10000,20):\n",
    "    odul = simulasyon_odul(nsim)\n",
    "    tahmin = simulasyon_tahmin(nsim)\n",
    "    kecikapilar = keci_kapi(odul,tahmin)\n",
    "    degistir = tahmin_degistir(tahmin,kecikapilar)\n",
    "    degistirirse.append(kazanma_yuzdesi(degistir, odul))\n",
    "    degistirmezse.append(kazanma_yuzdesi(tahmin, odul))\n",
    "\n",
    "plt.figure(figsize=(14,10))    \n",
    "plt.plot(range(1,10000,20),degistirirse, 'r.', label='Degistirirse')\n",
    "plt.plot(range(1,10000,20),degistirmezse, 'b.', label='Degistirmezse')\n",
    "plt.xlabel('Simulasyon sayısı')\n",
    "plt.ylabel('Olasılık')\n",
    "plt.legend()\n",
    "plt.show()\n",
    "    "
   ]
  },
  {
   "cell_type": "markdown",
   "metadata": {
    "hidePrompt": true
   },
   "source": [
    "Gördüğünüz gibi ilk başta düşük sayıda oyun oynadığımızda olasılıklar değişkenlik gösterirken, 10-15 oyundan sonra sabit olasılıklara yani 0.33 ve 0.67 civarında sabitleniyor. Elbette rastgele oyunlar oynadığımız için bu değerler her seferinde tam olarak 0.33 ve 0.66 çıkmıyor ve bu durum Monte Carlo yöntemlerinin genel özelliği. Her ne kadar 'teorik' değerlerle birebir aynı olmasa da ona çok çok yakın olduğunu görüyoruz. \n",
    "\n",
    "Monte Carlo yöntemleri fizikte analitik çözümünü yapamadığımız birçok sistem hakkında bilgi edinmek ve birçok zor integrali hesaplamak için sık sık kullanılan yöntemlerden biri. Bu dönem bilgisayar mühendisliği bölümünden aldığım yüksek lisans Monte Carlo dersine konuya dair birçok şey öğrenme fırsatım oldu. Bu yazı yeni yılla birlikte bu dersin ardından öğrendiklerim üzerine hazırlayacağım Monte Carlo dizisi için ufak, eğlenceli bir açılış yazısı olsun istedim. İlerleyen günlerdeki yazılarda konuyu derinlemesine inceleyip aşağıdaki konu başlıklarına değinmeyi planlıyorum:\n",
    "* Monte Carlo yöntemlerine giriş \n",
    "* Markov Zincirleri ve Monte Carlo (MCMC)\n",
    "* Önem Örneklemesi ve Metropolis-Hastings Algoritması\n",
    "* Gibbs Örneklemesi\n",
    "* Hamilton Monte Carlo yöntemi\n",
    "* Kesin Örnekleme, Propp-Wilson yöntemi ve Ising Modeli"
   ]
  },
  {
   "cell_type": "markdown",
   "metadata": {},
   "source": [
    "Yeni yılda görüşmek üzere!"
   ]
  },
  {
   "cell_type": "markdown",
   "metadata": {
    "hideCode": false,
    "hidePrompt": true
   },
   "source": [
    "#### *Yazıda kullanılan kodlar Boğaziçi Ünv. Fizik Bölümünde bu dönem aldığım 'Machine Learning in Physics' dersinde yaptığımız bir ödevden uyarlanmıştır."
   ]
  }
 ],
 "metadata": {
  "celltoolbar": "Hide code",
  "kernelspec": {
   "display_name": "Python 3",
   "language": "python",
   "name": "python3"
  },
  "language_info": {
   "codemirror_mode": {
    "name": "ipython",
    "version": 3
   },
   "file_extension": ".py",
   "mimetype": "text/x-python",
   "name": "python",
   "nbconvert_exporter": "python",
   "pygments_lexer": "ipython3",
   "version": "3.6.3"
  }
 },
 "nbformat": 4,
 "nbformat_minor": 2
}
